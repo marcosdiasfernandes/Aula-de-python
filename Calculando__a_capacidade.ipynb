{
  "nbformat": 4,
  "nbformat_minor": 0,
  "metadata": {
    "colab": {
      "provenance": [],
      "authorship_tag": "ABX9TyNEgY+/LBUFcux8KZA6lipo",
      "include_colab_link": true
    },
    "kernelspec": {
      "name": "python3",
      "display_name": "Python 3"
    },
    "language_info": {
      "name": "python"
    }
  },
  "cells": [
    {
      "cell_type": "markdown",
      "metadata": {
        "id": "view-in-github",
        "colab_type": "text"
      },
      "source": [
        "<a href=\"https://colab.research.google.com/github/marcosdiasfernandes/Aula-de-python/blob/main/Calculando__a_capacidade.ipynb\" target=\"_parent\"><img src=\"https://colab.research.google.com/assets/colab-badge.svg\" alt=\"Open In Colab\"/></a>"
      ]
    },
    {
      "cell_type": "markdown",
      "source": [
        "**Apresentação do desafio**\n",
        "\n",
        "O programa deve ler a quantidade de alunos e monitores e verificar se todos podem subir no bondinho em uma única viagem.\n",
        "\n",
        "A lógica por trás do programa é que, se a soma das pessoas for menor ou igual a 50, todos podem ir juntos; caso contrário, será necessário fazer mais de uma viagem.\n",
        "\n",
        "**Definição dos valores de entrada**\n",
        "Agora você entenderá o que o programa precisa receber para funcionar corretamente. No começo do problema há dois dados principais que precisam ser criados:\n",
        "\n",
        "\n",
        "*   Item da lista\n",
        "*   Item da lista\n",
        "\n",
        "\n",
        "A quantidade de alunos;\n",
        "A quantidade de monitores;\n",
        "\n",
        "Esses dois valores serão os dados de entrada e precisam ser fornecidos por quem estiver executando o código."
      ],
      "metadata": {
        "id": "vvTzr5E0n_NW"
      }
    },
    {
      "cell_type": "markdown",
      "source": [],
      "metadata": {
        "id": "Pt96sdpIqTFN"
      }
    },
    {
      "cell_type": "code",
      "execution_count": 4,
      "metadata": {
        "colab": {
          "base_uri": "https://localhost:8080/"
        },
        "id": "zw8UJ5AGmb3g",
        "outputId": "564f6388-733b-40e8-ba03-0fd119d24397"
      },
      "outputs": [
        {
          "output_type": "stream",
          "name": "stdout",
          "text": [
            "Digite a quantidade de alunos: 49\n",
            "Digite a quantidade de monitores: 1\n",
            "pode ir\n"
          ]
        }
      ],
      "source": [
        "numero_de_alunos = int(input(\"Digite a quantidade de alunos: \"))\n",
        "numero_de_monitores = int(input(\"Digite a quantidade de monitores: \"))\n",
        "resposta_positiva = \"pode ir\"\n",
        "resposta_negativa = \"não pode ir\"\n",
        "\n",
        "if numero_de_alunos + numero_de_monitores <= 50:\n",
        "  print(resposta_positiva)\n",
        "else:\n",
        "  print(resposta_negativa)"
      ]
    },
    {
      "cell_type": "markdown",
      "source": [
        "**Desafio adicional**\n",
        "\n",
        "Agora é o momento do novo desafio, leia-o a seguir:\n",
        "\n",
        "Infelizmente, o bondinho que transportava até 50 pessoas entrou em manutenção. Agora, a excursão contará com um bondinho menor, com capacidade de apenas 30 pessoas.\n",
        "\n",
        "Além disso, há uma nova informação importante: oito professores também vão participar da excursão.\n",
        "\n",
        "O desafio é o seguinte: crie um programa que verifique se alunos, monitores e 8 professores cabem juntos no novo bondinho de 30 lugares."
      ],
      "metadata": {
        "id": "WmsBrdT2qA53"
      }
    },
    {
      "cell_type": "code",
      "source": [
        "professores = int(8)\n",
        "numero_de_monitores = int(input(\"Flae a quantidade de monitores\"))\n",
        "numero_de_alunos = int(input(\"Fale a quantidade de alunos\"))\n",
        "\n",
        "if numero_de_alunos + numero_de_monitores + professores <= 30:\n",
        "  print(resposta_positiva)\n",
        "else:\n",
        "  print(resposta_negativa)"
      ],
      "metadata": {
        "colab": {
          "base_uri": "https://localhost:8080/"
        },
        "id": "DxKKY8OvqNHV",
        "outputId": "d37a2715-00c5-4c0e-bf71-8b7ff7c69b38"
      },
      "execution_count": 6,
      "outputs": [
        {
          "output_type": "stream",
          "name": "stdout",
          "text": [
            "Flae a quantidade de monitores8\n",
            "Fale a quantidade de alunos14\n",
            "pode ir\n"
          ]
        }
      ]
    }
  ]
}