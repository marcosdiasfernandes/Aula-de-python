{
  "nbformat": 4,
  "nbformat_minor": 0,
  "metadata": {
    "colab": {
      "provenance": [],
      "authorship_tag": "ABX9TyPpXrWQgNJ2vFkNYh0+WfFm",
      "include_colab_link": true
    },
    "kernelspec": {
      "name": "python3",
      "display_name": "Python 3"
    },
    "language_info": {
      "name": "python"
    }
  },
  "cells": [
    {
      "cell_type": "markdown",
      "metadata": {
        "id": "view-in-github",
        "colab_type": "text"
      },
      "source": [
        "<a href=\"https://colab.research.google.com/github/marcosdiasfernandes/Aula-de-python/blob/main/Calculando__a_capacidade.ipynb\" target=\"_parent\"><img src=\"https://colab.research.google.com/assets/colab-badge.svg\" alt=\"Open In Colab\"/></a>"
      ]
    },
    {
      "cell_type": "markdown",
      "source": [
        "**Apresentação do desafio**\n",
        "\n",
        "O programa deve ler a quantidade de alunos e monitores e verificar se todos podem subir no bondinho em uma única viagem.\n",
        "\n",
        "A lógica por trás do programa é que, se a soma das pessoas for menor ou igual a 50, todos podem ir juntos; caso contrário, será necessário fazer mais de uma viagem.\n",
        "\n",
        "**Definição dos valores de entrada**\n",
        "Agora você entenderá o que o programa precisa receber para funcionar corretamente. No começo do problema há dois dados principais que precisam ser criados:\n",
        "\n",
        "\n",
        "*   Item da lista\n",
        "*   Item da lista\n",
        "\n",
        "\n",
        "A quantidade de alunos;\n",
        "A quantidade de monitores;\n",
        "\n",
        "Esses dois valores serão os dados de entrada e precisam ser fornecidos por quem estiver executando o código."
      ],
      "metadata": {
        "id": "vvTzr5E0n_NW"
      }
    },
    {
      "cell_type": "markdown",
      "source": [],
      "metadata": {
        "id": "Pt96sdpIqTFN"
      }
    },
    {
      "cell_type": "code",
      "execution_count": null,
      "metadata": {
        "colab": {
          "base_uri": "https://localhost:8080/"
        },
        "id": "zw8UJ5AGmb3g",
        "outputId": "564f6388-733b-40e8-ba03-0fd119d24397"
      },
      "outputs": [
        {
          "output_type": "stream",
          "name": "stdout",
          "text": [
            "Digite a quantidade de alunos: 49\n",
            "Digite a quantidade de monitores: 1\n",
            "pode ir\n"
          ]
        }
      ],
      "source": [
        "numero_de_alunos = int(input(\"Digite a quantidade de alunos: \"))\n",
        "numero_de_monitores = int(input(\"Digite a quantidade de monitores: \"))\n",
        "resposta_positiva = \"pode ir\"\n",
        "resposta_negativa = \"não pode ir\"\n",
        "\n",
        "if numero_de_alunos + numero_de_monitores <= 50:\n",
        "  print(resposta_positiva)\n",
        "else:\n",
        "  print(resposta_negativa)"
      ]
    },
    {
      "cell_type": "markdown",
      "source": [
        "**Desafio adicional**\n",
        "\n",
        "Agora é o momento do novo desafio, leia-o a seguir:\n",
        "\n",
        "Infelizmente, o bondinho que transportava até 50 pessoas entrou em manutenção. Agora, a excursão contará com um bondinho menor, com capacidade de apenas 30 pessoas.\n",
        "\n",
        "Além disso, há uma nova informação importante: oito professores também vão participar da excursão.\n",
        "\n",
        "O desafio é o seguinte: crie um programa que verifique se alunos, monitores e 8 professores cabem juntos no novo bondinho de 30 lugares."
      ],
      "metadata": {
        "id": "WmsBrdT2qA53"
      }
    },
    {
      "cell_type": "code",
      "source": [
        "professores = int(8)\n",
        "numero_de_monitores = int(input(\"Flae a quantidade de monitores\"))\n",
        "numero_de_alunos = int(input(\"Fale a quantidade de alunos\"))\n",
        "\n",
        "if numero_de_alunos + numero_de_monitores + professores <= 30:\n",
        "  print(resposta_positiva)\n",
        "else:\n",
        "  print(resposta_negativa)"
      ],
      "metadata": {
        "colab": {
          "base_uri": "https://localhost:8080/"
        },
        "id": "DxKKY8OvqNHV",
        "outputId": "d37a2715-00c5-4c0e-bf71-8b7ff7c69b38"
      },
      "execution_count": null,
      "outputs": [
        {
          "output_type": "stream",
          "name": "stdout",
          "text": [
            "Flae a quantidade de monitores8\n",
            "Fale a quantidade de alunos14\n",
            "pode ir\n"
          ]
        }
      ]
    },
    {
      "cell_type": "markdown",
      "source": [
        "Imagine que você está ajudando a organizar um evento em sua escola o qual possui 100 ingressos disponíveis para alunos, monitores e convidados. Para que tudo ocorra bem, é necessário garantir que o número total de pessoas não ultrapasse a quantidade de ingressos. Além disso, a direção da escola impôs uma regra: é permitido haver, no máximo, 20 convidados no total, mesmo que sobrem ingressos.\n",
        "\n",
        "Desse modo, crie um programa que leia a quantidade de alunos, monitores e convidados. Em seguida, o programa deve verificar se o total de pessoas pode ser acomodado dentro dos 100 ingressos disponíveis. O programa também deve verificar se o número de convidados está dentro do limite de 20. Por fim, deve exibir uma mensagem adequada para cada situação."
      ],
      "metadata": {
        "id": "ogIO4SwKttq-"
      }
    },
    {
      "cell_type": "code",
      "source": [
        "monitores = int(input(\" Qual o número de monitores?\"))\n",
        "convidados = int(input(\" Qual o número de convidados?\"))\n",
        "\n",
        "total = monitores + convidados\n",
        "\n",
        "if convidados > 20:\n",
        "  print(f\"Não é permitido acima de 20 convidados, você tem: {convidados} \")\n",
        "elif total > 100:\n",
        "  print(f\"Não é permitido mais de 100 pessoas, você tem {convidados}\")\n",
        "else:\n",
        "  print(f\"O total de pessoas no teatro é {total}\")"
      ],
      "metadata": {
        "id": "cq6IRQ8utveN",
        "colab": {
          "base_uri": "https://localhost:8080/"
        },
        "outputId": "8056fcfd-16b2-4f3c-830e-d9de1b1773c2"
      },
      "execution_count": 7,
      "outputs": [
        {
          "output_type": "stream",
          "name": "stdout",
          "text": [
            " Qual o número de monitores?50\n",
            " Qual o número de convidados?20\n",
            "O total de pessoas no teatro é 70\n"
          ]
        }
      ]
    }
  ]
}