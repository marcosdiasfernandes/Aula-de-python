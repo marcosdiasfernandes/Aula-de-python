{
  "nbformat": 4,
  "nbformat_minor": 0,
  "metadata": {
    "colab": {
      "provenance": [],
      "authorship_tag": "ABX9TyMpFuPjXr+hC+gv9AzozLiA",
      "include_colab_link": true
    },
    "kernelspec": {
      "name": "python3",
      "display_name": "Python 3"
    },
    "language_info": {
      "name": "python"
    }
  },
  "cells": [
    {
      "cell_type": "markdown",
      "metadata": {
        "id": "view-in-github",
        "colab_type": "text"
      },
      "source": [
        "<a href=\"https://colab.research.google.com/github/marcosdiasfernandes/Aula-de-python/blob/main/03_distribuindo_itens.ipynb\" target=\"_parent\"><img src=\"https://colab.research.google.com/assets/colab-badge.svg\" alt=\"Open In Colab\"/></a>"
      ]
    },
    {
      "cell_type": "markdown",
      "source": [
        "A turma do segundo ano encontrou um envelope cheio de figurinhas. Para garantir uma divisão justa, todos concordaram com a sugestão de João, o dono do envelope. Cada amigo, exceto João, deve receber exatamente o mesmo número de figurinhas. João deve receber o dobro da quantidade que cada amigo recebe. Pode ser que o fato de João ser o dono do envelope tenha ajudado a convencer os amigos, mas também contribui o fato de que, do jeito proposto, a divisão era exata, sem sobrar nem faltar figurinhas."
      ],
      "metadata": {
        "id": "D713lRcwp3hT"
      }
    },
    {
      "cell_type": "code",
      "execution_count": 7,
      "metadata": {
        "colab": {
          "base_uri": "https://localhost:8080/"
        },
        "id": "mZel_qdXpniF",
        "outputId": "a203a619-1498-4565-b3de-40c672a32c68"
      },
      "outputs": [
        {
          "output_type": "stream",
          "name": "stdout",
          "text": [
            "Qual é a quantidade de figurinhas?100\n",
            "Qual é o número de amigos?5\n",
            "Temos um total de 14 figurinhas para cada pessoa e João vai ficar com 28 figurinhas.\n"
          ]
        }
      ],
      "source": [
        "total_de_figurinha = int(input(\"Qual é a quantidade de figurinhas?\"))\n",
        "numero_de_amigos = int(input(\"Qual é o número de amigos?\"))\n",
        "\n",
        "divisao_para_cada_pessoa = total_de_figurinha // (numero_de_amigos + 2)\n",
        "quantidade_para_joao = divisao_para_cada_pessoa * 2\n",
        "\n",
        "print(f\"Temos um total de {divisao_para_cada_pessoa} figurinhas para cada pessoa e João vai ficar com {quantidade_para_joao} figurinhas.\")"
      ]
    },
    {
      "cell_type": "markdown",
      "source": [
        "Após dividir as figurinhas no recreio, João percebeu que ainda havia algumas figurinhas extras em sua mochila. Ele decidiu que essas figurinhas extras também devem ser distribuídas de forma justa entre ele e seus amigos, mantendo a mesma regra. Cada amigo receberá uma quantidade igual de figurinhas, e João receberá o dobro da quantidade que cada amigo recebe. Ajude João a distribuir todas as figurinhas, incluindo as extras, de maneira justa, sem deixar nenhuma figurinha sobrando."
      ],
      "metadata": {
        "id": "ZbY9U13DuPK2"
      }
    },
    {
      "cell_type": "code",
      "source": [
        "total_de_figurinha = int(input(\"Qual é a quantidade de figurinhas? \"))\n",
        "numero_de_amigos = int(input(\"Qual é o número de amigos? \"))\n",
        "figurinhas_extras = int(input(\"Quantas figurinhas extras? \"))\n",
        "\n",
        "# soma tudo\n",
        "total_geral = total_de_figurinha + figurinhas_extras\n",
        "\n",
        "# aplica a regra: João vale \"2 pessoas\"\n",
        "divisao_para_cada_pessoa = total_geral // (numero_de_amigos + 2)\n",
        "quantidade_para_joao = divisao_para_cada_pessoa * 2\n",
        "\n",
        "print(f\"Cada amigo vai ficar com {divisao_para_cada_pessoa} figurinhas e João vai ficar com {quantidade_para_joao} figurinhas.\")\n"
      ],
      "metadata": {
        "colab": {
          "base_uri": "https://localhost:8080/"
        },
        "id": "tPh4AIBDuR6_",
        "outputId": "93951414-4f43-47e8-c0c1-d29a4c9c9e53"
      },
      "execution_count": 14,
      "outputs": [
        {
          "output_type": "stream",
          "name": "stdout",
          "text": [
            "Qual é a quantidade de figurinhas? 100\n",
            "Qual é o número de amigos? 5\n",
            "Quantas figurinhas extras? 100\n",
            "Cada amigo vai ficar com 28 figurinhas e João vai ficar com 56 figurinhas.\n"
          ]
        }
      ]
    },
    {
      "cell_type": "markdown",
      "source": [
        "Após semanas navegando, uma frota pirata encontrou um baú cheio de moedas de ouro. A divisão do tesouro segue regras antigas: cada pirata da tripulação recebe a mesma quantidade de moedas, e o capitão de cada navio recebe o dobro do que um pirata comum.\n",
        "\n",
        "Seu desafio será calcular quantas moedas cada capitão deve receber. Mas atenção: considere o número de navios envolvidos na divisão!\n",
        "\n",
        "Para isso, escreva um programa em Python que leia o número total de moedas, o total de piratas e o número de navios. Em seguida, calcule e exiba quantas moedas cada capitão receberá, assumindo que a divisão é sempre justa."
      ],
      "metadata": {
        "id": "ez5OBAuQC2-g"
      }
    },
    {
      "cell_type": "code",
      "source": [
        "moedas = int(input(\"Moedas: \"))\n",
        "piratas = int(input(\"Piratas: \"))\n",
        "navios = int(input(\"Navios: \"))\n",
        "\n",
        "# quanto cada pirata comum recebe\n",
        "divisao_para_pirata = moedas // (piratas + 2 * navios)\n",
        "\n",
        "# quanto cada capitão recebe\n",
        "divisao_para_capitao = divisao_para_pirata * 2\n",
        "\n",
        "print(f\"Cada capitão irá receber {divisao_para_capitao} moedas e cada pirata receberá {divisao_para_pirata} moedas.\")\n"
      ],
      "metadata": {
        "colab": {
          "base_uri": "https://localhost:8080/"
        },
        "id": "9ZV1hgY4C5Th",
        "outputId": "4cc8dac3-da52-4c5b-80ab-9de95346b09d"
      },
      "execution_count": 12,
      "outputs": [
        {
          "output_type": "stream",
          "name": "stdout",
          "text": [
            "Moedas: 10\n",
            "Piratas: 2\n",
            "navios: 1\n",
            "Cada captão irá receber 4 e cada pirata vai receber 2.\n"
          ]
        }
      ]
    }
  ]
}