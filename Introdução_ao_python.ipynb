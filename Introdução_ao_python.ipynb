{
  "nbformat": 4,
  "nbformat_minor": 0,
  "metadata": {
    "colab": {
      "provenance": [],
      "authorship_tag": "ABX9TyPXOs8UwmMP9T0bYeGhoqNs",
      "include_colab_link": true
    },
    "kernelspec": {
      "name": "python3",
      "display_name": "Python 3"
    },
    "language_info": {
      "name": "python"
    }
  },
  "cells": [
    {
      "cell_type": "markdown",
      "metadata": {
        "id": "view-in-github",
        "colab_type": "text"
      },
      "source": [
        "<a href=\"https://colab.research.google.com/github/marcosdiasfernandes/Aula-de-python/blob/main/Introdu%C3%A7%C3%A3o_ao_python.ipynb\" target=\"_parent\"><img src=\"https://colab.research.google.com/assets/colab-badge.svg\" alt=\"Open In Colab\"/></a>"
      ]
    },
    {
      "cell_type": "code",
      "execution_count": null,
      "metadata": {
        "colab": {
          "base_uri": "https://localhost:8080/"
        },
        "id": "GRfB2cnAldPY",
        "outputId": "1763a029-5a1c-4d3b-cf56-9486d492f530"
      },
      "outputs": [
        {
          "output_type": "stream",
          "name": "stdout",
          "text": [
            "oi\n"
          ]
        }
      ],
      "source": [
        "print('oi')"
      ]
    },
    {
      "cell_type": "markdown",
      "source": [
        "Olá, estudante, como vai?\n",
        "\n",
        "Imagine o seguinte cenário: Marcelo é um estudante que adora jogos de RPG. No fim de semana, ele embarcou em uma missão épica em seu jogo favorito: Reinos da lógica. Durante a jornada, ele completou várias fases com diferentes níveis de dificuldade: passou por três fases fáceis, duas médias, uma difícil e uma lendária. Cada tipo de fase gerou uma pontuação diferente, observe:\n",
        "\n",
        "* fase fácil: 10 pontos;\n",
        "* fase média: 25 pontos;\n",
        "* fase difícil: 50 pontos;\n",
        "* fase lendária: 100 pontos.\n",
        "\n",
        "Agora, crie quatro variáveis que armazenem os pontos obtidos em cada tipo de fase. Depois, calcule a média de pontos por fase usando divisão e mostre o resultado com uma f-string."
      ],
      "metadata": {
        "id": "j8KpzNsZNmur"
      }
    },
    {
      "cell_type": "markdown",
      "source": [
        "## Exercicio\n"
      ],
      "metadata": {
        "id": "JM5_KRtPlifx"
      }
    },
    {
      "cell_type": "code",
      "source": [
        "a = 10\n",
        "b = 25\n",
        "c = 50\n",
        "d = 100\n",
        "\n",
        "lista = [a,b,c,d]\n",
        "Media = sum(lista)/4\n",
        "print(f\"A média é {Media}\")"
      ],
      "metadata": {
        "id": "EiiejaLCmQU-",
        "colab": {
          "base_uri": "https://localhost:8080/"
        },
        "outputId": "a24c3bf6-7b5a-4ff8-d115-177673b90f74"
      },
      "execution_count": 11,
      "outputs": [
        {
          "output_type": "stream",
          "name": "stdout",
          "text": [
            "A média é 46.25\n"
          ]
        }
      ]
    }
  ]
}