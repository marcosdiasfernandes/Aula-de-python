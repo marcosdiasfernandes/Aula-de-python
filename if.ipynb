{
  "nbformat": 4,
  "nbformat_minor": 0,
  "metadata": {
    "colab": {
      "provenance": [],
      "authorship_tag": "ABX9TyPBtsx/V0YZU1pDt6/LiuZL",
      "include_colab_link": true
    },
    "kernelspec": {
      "name": "python3",
      "display_name": "Python 3"
    },
    "language_info": {
      "name": "python"
    }
  },
  "cells": [
    {
      "cell_type": "markdown",
      "metadata": {
        "id": "view-in-github",
        "colab_type": "text"
      },
      "source": [
        "<a href=\"https://colab.research.google.com/github/marcosdiasfernandes/Aula-de-python/blob/main/if.ipynb\" target=\"_parent\"><img src=\"https://colab.research.google.com/assets/colab-badge.svg\" alt=\"Open In Colab\"/></a>"
      ]
    },
    {
      "cell_type": "markdown",
      "source": [
        "Chegamos ao fim da aula e, como forma de reforçar o conteúdo, foi proposto um desafio final. A ideia é imaginar uma situação nova no jogo Flipper, mais complexa, com a introdução de uma terceira portinha: a portinha “Q”.\n",
        "\n",
        "Com a portinha “Q”, adicionaremos mais uma possibilidade de trajeto: o caminho D.\n",
        "\n",
        "Essa nova portinha funciona da seguinte maneira: ela só entra em ação, depois de considerar as decisões das portinhas P e R, atuando como uma decisão final. Se “Q” estiver na posição 1, o caminho da bolinha muda para D, independentemente do resultado anterior. Isso quer dizer que a nova condição precisa ser verificada após todas as outras decisões, como uma etapa extra.\n",
        "\n",
        "O desafio é pensar em como inserir essa nova lógica no código. Será necessário pedir também o valor da porta Q, usando input, e ajustar a estrutura condicional para que, se Q == 1, o programa imprima o caminho D, mesmo que, anteriormente, o resultado fosse A, B ou C.\n",
        "\n",
        "Lembre-se: a tentativa de resolução dos desafios é obrigatória. Eles compõem partes importantes da entrega final do projeto!"
      ],
      "metadata": {
        "id": "alR-U4dqWxTJ"
      }
    },
    {
      "cell_type": "code",
      "execution_count": 1,
      "metadata": {
        "colab": {
          "base_uri": "https://localhost:8080/"
        },
        "id": "ZQW0vi8BVhcR",
        "outputId": "97043be9-bb60-446f-b1e8-66229fe6666c"
      },
      "outputs": [
        {
          "output_type": "stream",
          "name": "stdout",
          "text": [
            "Digite o valor da portinha P (0 ou 1): 0\n",
            "Digite o valor da portinha R (0 ou 1): 0\n",
            "Digite o valor da portinha Q (0 ou 1): 1\n",
            "--------------------\n",
            "O caminho da bolinha é: D (Decisão final de Q)\n",
            "--------------------\n"
          ]
        }
      ],
      "source": [
        "# 1. Obter os inputs das portinhas P, R e Q\n",
        "# Lembre-se de converter o input para inteiro, pois ele será usado em comparações numéricas.\n",
        "\n",
        "# Porta P (0 ou 1)\n",
        "valor_p = int(input(\"Digite o valor da portinha P (0 ou 1): \"))\n",
        "\n",
        "# Porta R (0 ou 1)\n",
        "valor_r = int(input(\"Digite o valor da portinha R (0 ou 1): \"))\n",
        "\n",
        "# Nova Porta Q (0 ou 1) - A decisora final\n",
        "valor_q = int(input(\"Digite o valor da portinha Q (0 ou 1): \"))\n",
        "\n",
        "print(\"-\" * 20)\n",
        "\n",
        "# 2. Inserir a Lógica da Portinha Q como Decisão Final\n",
        "# Verificamos Q primeiro. Se Q for 1, o caminho é D, e o restante da lógica é ignorado.\n",
        "\n",
        "if valor_q == 1:\n",
        "    # A regra incondicional de Q=1 é aplicada\n",
        "    print(\"O caminho da bolinha é: D (Decisão final de Q)\")\n",
        "else:\n",
        "    # Se Q não for 1, a lógica original das portinhas P e R é executada\n",
        "\n",
        "    if valor_p == 0:\n",
        "        # Se P=0, o caminho é A\n",
        "        caminho_final = \"A\"\n",
        "    else: # Isso significa que P=1\n",
        "\n",
        "        # A decisão passa para a porta R\n",
        "        if valor_r == 0:\n",
        "            # Se R=0 (e P=1), o caminho é B\n",
        "            caminho_final = \"B\"\n",
        "        else: # Isso significa que R=1 (e P=1)\n",
        "            # Se R=1 (e P=1), o caminho é C\n",
        "            caminho_final = \"C\"\n",
        "\n",
        "    # Imprime o resultado obtido da lógica P e R (que só roda se Q != 1)\n",
        "    print(f\"O caminho da bolinha é: {caminho_final}\")\n",
        "\n",
        "print(\"-\" * 20)"
      ]
    }
  ]
}